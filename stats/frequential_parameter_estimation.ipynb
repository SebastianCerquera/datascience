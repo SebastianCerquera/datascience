{
 "cells": [
  {
   "cell_type": "code",
   "execution_count": 2,
   "metadata": {},
   "outputs": [],
   "source": [
    "import pandas as pd\n",
    "import seaborn as sns"
   ]
  },
  {
   "cell_type": "code",
   "execution_count": 3,
   "metadata": {},
   "outputs": [],
   "source": [
    "import numpy as np\n",
    "from functools import partial\n",
    "\n",
    "import matplotlib.pyplot as plt"
   ]
  },
  {
   "cell_type": "markdown",
   "metadata": {},
   "source": [
    "# Estimación frequentista de parametros\n",
    "\n",
    "Estoy siguiendo este curso para aprender acerca de inferencia estadistica, Este video toca el tema desde un punto de vista frecuentista.\n",
    "\n",
    "- https://www.youtube.com/watch?v=4UJc0S8APm4\n",
    "\n",
    "Dado un parametro $\\theta$ y se produce una variable aleatoria, para la cual nuestro estimador genera otra variable aleatoria $\\Theta$ que es nuestro valor estimado. El estimador funciona tanto como con valores escalares como con vectores.\n",
    "\n",
    "<img  src=\"images/estimator.png\"/>\n",
    "\n",
    "El objetivo es construir un estimador con error ($\\Theta$ - $\\theta$) tan pequeno como sea posible.\n",
    "\n",
    "\n",
    "<img  src=\"images/estimator-caracteristics.png\"/>\n",
    "\n",
    "Un buen estimador cumple con las siguientes caracteristicas, el valor de $\\theta$ es desconocido, \n",
    "\n",
    "- No tiene sesgos: El valor esperado del estimador $E[\\Theta]$ se acerca a $\\theta$\n",
    "- Es consistente: $\\Theta_n$ --> $\\theta$ \n",
    "- Tiene un mean square error pequeno: \n",
    "\n",
    "\n",
    "\n",
    "El describe 2 metodos para construir un estimador de un parametro:\n",
    "\n",
    "- Maximun likehood\n",
    "- Sample distribution (CLT theorem)"
   ]
  },
  {
   "cell_type": "markdown",
   "metadata": {},
   "source": [
    "### Preguntas ???\n",
    "\n",
    "- Que tan pequeño debe ser el MSE? Que es pequeño en este contexto?"
   ]
  },
  {
   "cell_type": "code",
   "execution_count": 52,
   "metadata": {},
   "outputs": [],
   "source": [
    "def check_bias(distribution_generator, estimator, N=1000):\n",
    "    results = []\n",
    "    for i in range(N):\n",
    "        results.append(estimator(distribution_generator()))\n",
    "    return np.mean(results)\n",
    "\n",
    "def compute_samples_table(distribution_generator, estimator):\n",
    "    results = []\n",
    "    for i in [1, 10, 100, 1000, 10000]:\n",
    "        X = distribution_generator(i)\n",
    "        mu = estimator(X)\n",
    "        df = pd.DataFrame({'values': X})\n",
    "        df.loc[:, \"estimate\"] = mu\n",
    "        df.loc[:, \"sample\"] = i\n",
    "        results.append(df)\n",
    "    return pd.concat(results)\n",
    "\n",
    "def estimators_samples_fixed_N(distribution_generator, estimator, N):\n",
    "    results = []\n",
    "    for i in [1, 10, 100, 1000, 10000]:\n",
    "        estimators = []\n",
    "        for j in range(i):\n",
    "            mu = estimator(distribution_generator(N))\n",
    "            estimators.append(mu)\n",
    "        df = pd.DataFrame({'values': estimators})\n",
    "        df.loc[:, \"sample\"] = i\n",
    "        results.append(df)\n",
    "    return pd.concat(results)\n",
    "\n",
    "def estimators_samples_table(distribution_generator, estimator):\n",
    "    results = []\n",
    "    for i in [1, 10, 100, 1000, 10000]:\n",
    "        df = estimators_samples_fixed_N(distribution_generator, \n",
    "                                        estimator, i)\n",
    "        df.loc[:, \"N\"] = i\n",
    "        results.append(df)\n",
    "    return pd.concat(results)"
   ]
  },
  {
   "cell_type": "markdown",
   "metadata": {},
   "source": [
    "## Maximun likehood"
   ]
  },
  {
   "cell_type": "code",
   "execution_count": null,
   "metadata": {},
   "outputs": [],
   "source": []
  },
  {
   "cell_type": "markdown",
   "metadata": {},
   "source": [
    "# Sample distribution\n",
    "\n",
    "Construir un estimador usando el teorema central del limite:\n",
    "\n",
    "- Verificar que el valor esperado del estimador se apróxime al valor del parametro.\n",
    "- Verificar que el valor del estimador mejora y consistente conforme incrementa el número de muestras.\n",
    "- Verificar el mean squre error, debería ser más pequeno entre mas datos por la ley de los grandes números.\n",
    "\n",
    "### Sample mean distribution\n",
    "\n",
    "El estimador se puede construir con el promedio de los datos de la muestra: $\\dfrac{\\sum_{n=1}^{N} x_i} N$"
   ]
  },
  {
   "cell_type": "code",
   "execution_count": null,
   "metadata": {},
   "outputs": [],
   "source": [
    "def estimate_mean(X):\n",
    "    return np.mean(X)"
   ]
  },
  {
   "cell_type": "markdown",
   "metadata": {},
   "source": [
    "### Normal distribution\n",
    "\n",
    "Usar el paquete de numpy para generar muestras de una distribución normal, construir el estimador para la media y verificar los resultados."
   ]
  },
  {
   "cell_type": "code",
   "execution_count": 25,
   "metadata": {},
   "outputs": [],
   "source": [
    "MU = 10\n",
    "SIGMA = 1\n",
    "\n",
    "def gen_normal_sample(N, mu=MU, sigma=SIGMA):\n",
    "    return np.random.normal(mu, sigma, N)"
   ]
  },
  {
   "cell_type": "markdown",
   "metadata": {},
   "source": [
    "### Normal distribution: Sesgo"
   ]
  },
  {
   "cell_type": "code",
   "execution_count": 26,
   "metadata": {},
   "outputs": [
    {
     "data": {
      "text/plain": [
       "[<matplotlib.lines.Line2D at 0x7fa346496f10>]"
      ]
     },
     "execution_count": 26,
     "metadata": {},
     "output_type": "execute_result"
    },
    {
     "data": {
      "image/png": "[encoded data removed]",
      "text/plain": [
       "<Figure size 432x288 with 1 Axes>"
      ]
     },
     "metadata": {
      "needs_background": "light"
     },
     "output_type": "display_data"
    }
   ],
   "source": [
    "MSG = \"\"\"\n",
    "El estimador no presenta es menos volatil cuando incrementa el número de muestras\n",
    "\"\"\"\n",
    "\n",
    "samples = list(range(1, 10000, 100))\n",
    "expected_values = list(map(lambda e: check_bias(\n",
    "    partial(gen_normal_sample, 10), estimate_mean, N=e), samples))\n",
    "plt.plot(samples, expected_values, 'o')"
   ]
  },
  {
   "cell_type": "code",
   "execution_count": 27,
   "metadata": {},
   "outputs": [
    {
     "data": {
      "text/plain": [
       "<matplotlib.axes._subplots.AxesSubplot at 0x7fa346664220>"
      ]
     },
     "execution_count": 27,
     "metadata": {},
     "output_type": "execute_result"
    },
    {
     "data": {
      "image/png": "[encoded data removed]",
      "text/plain": [
       "<Figure size 432x288 with 1 Axes>"
      ]
     },
     "metadata": {
      "needs_background": "light"
     },
     "output_type": "display_data"
    }
   ],
   "source": [
    "MSG = \"\"\"\n",
    "Hacer un box plot con la distribución de probabilidad de la muestra con estos tamanos:\n",
    "1, 10, 100, 1000, 10000, 100000.\n",
    "\n",
    "El resultado tiene sentido entre más puntos las distribución tiene menos\n",
    "sesgo.\n",
    "\"\"\"\n",
    "\n",
    "df = compute_samples_table(gen_normal_sample, estimate_mean)\n",
    "sns.boxplot(data=df, y=\"values\", x=\"sample\", showfliers=True)"
   ]
  },
  {
   "cell_type": "markdown",
   "metadata": {},
   "source": [
    "### Normal distribution: Consistencia"
   ]
  },
  {
   "cell_type": "code",
   "execution_count": 28,
   "metadata": {},
   "outputs": [
    {
     "data": {
      "text/plain": [
       "[<matplotlib.lines.Line2D at 0x7fa3467ac0d0>]"
      ]
     },
     "execution_count": 28,
     "metadata": {},
     "output_type": "execute_result"
    },
    {
     "data": {
      "image/png": "[encoded data removed]",
      "text/plain": [
       "<Figure size 432x288 with 1 Axes>"
      ]
     },
     "metadata": {
      "needs_background": "light"
     },
     "output_type": "display_data"
    }
   ],
   "source": [
    "MSG = \"\"\"\n",
    "El estimado debería acercarcse a teta, pero no lo esta haciendo.\n",
    "\n",
    "Algo estoy haciendo mal, el dice que el estimador tiene a theta en proababilidad,\n",
    "que quiere decir?\n",
    "\"\"\"\n",
    "\n",
    "samples = list(range(1, 10000, 100))\n",
    "expected_values = list(map(lambda e: \n",
    "                estimate_mean(gen_normal_sample(e)), samples))\n",
    "plt.plot(samples, expected_values, 'o')"
   ]
  },
  {
   "cell_type": "code",
   "execution_count": 29,
   "metadata": {},
   "outputs": [],
   "source": [
    "MSG = \"\"\"\n",
    "Hacer un box plot con la distribución de probabilidad del estimador, la idea es\n",
    "generar k muestras de tamano n, graficar la distribución de estas k muestras,\n",
    "entre más grande el número k menos varianza debería tener la distribución.\n",
    "\n",
    "El estimador es consistente, aun con muestras pequenas la distribución\n",
    "del estimador tiende hacia el parametro.\n",
    "\"\"\""
   ]
  },
  {
   "cell_type": "code",
   "execution_count": 53,
   "metadata": {},
   "outputs": [
    {
     "data": {
      "text/plain": [
       "<matplotlib.axes._subplots.AxesSubplot at 0x7fa346664730>"
      ]
     },
     "execution_count": 53,
     "metadata": {},
     "output_type": "execute_result"
    },
    {
     "data": {
      "image/png": "[encoded data removed]",
      "text/plain": [
       "<Figure size 1152x720 with 1 Axes>"
      ]
     },
     "metadata": {
      "needs_background": "light"
     },
     "output_type": "display_data"
    }
   ],
   "source": [
    "df_e = estimators_samples_table(gen_normal_sample, estimate_mean)\n",
    "fig = plt.figure(figsize=(16, 10))\n",
    "ax = fig.add_subplot(1, 1, 1)\n",
    "sns.boxplot(ax=ax, data=df_e, y=\"values\", x=\"sample\", hue=\"N\", showfliers=False)"
   ]
  },
  {
   "cell_type": "markdown",
   "metadata": {},
   "source": [
    "### Normal distribution: Error"
   ]
  },
  {
   "cell_type": "code",
   "execution_count": 34,
   "metadata": {},
   "outputs": [],
   "source": [
    "MSG = \"\"\"\n",
    "Lo que yo esperaria es que el mean square error del parametro disminuya conforme incrementa el número de muestras.\n",
    "No siempre es el menor sin embargo el valor es más constante entre más muestras, no cambia tanto entre ejecuciones.\n",
    "\"\"\""
   ]
  },
  {
   "cell_type": "code",
   "execution_count": 39,
   "metadata": {},
   "outputs": [
    {
     "data": {
      "text/html": [
       "<div>\n",
       "<style scoped>\n",
       "    .dataframe tbody tr th:only-of-type {\n",
       "        vertical-align: middle;\n",
       "    }\n",
       "\n",
       "    .dataframe tbody tr th {\n",
       "        vertical-align: top;\n",
       "    }\n",
       "\n",
       "    .dataframe thead th {\n",
       "        text-align: right;\n",
       "    }\n",
       "</style>\n",
       "<table border=\"1\" class=\"dataframe\">\n",
       "  <thead>\n",
       "    <tr style=\"text-align: right;\">\n",
       "      <th></th>\n",
       "      <th>values</th>\n",
       "      <th>sample</th>\n",
       "      <th>N</th>\n",
       "      <th>parameter</th>\n",
       "      <th>square_error</th>\n",
       "    </tr>\n",
       "  </thead>\n",
       "  <tbody>\n",
       "    <tr>\n",
       "      <th>0</th>\n",
       "      <td>8.909919</td>\n",
       "      <td>1</td>\n",
       "      <td>1</td>\n",
       "      <td>10</td>\n",
       "      <td>1.188277</td>\n",
       "    </tr>\n",
       "    <tr>\n",
       "      <th>0</th>\n",
       "      <td>8.916959</td>\n",
       "      <td>10</td>\n",
       "      <td>1</td>\n",
       "      <td>10</td>\n",
       "      <td>1.172978</td>\n",
       "    </tr>\n",
       "    <tr>\n",
       "      <th>1</th>\n",
       "      <td>10.859788</td>\n",
       "      <td>10</td>\n",
       "      <td>1</td>\n",
       "      <td>10</td>\n",
       "      <td>0.739235</td>\n",
       "    </tr>\n",
       "    <tr>\n",
       "      <th>2</th>\n",
       "      <td>9.809256</td>\n",
       "      <td>10</td>\n",
       "      <td>1</td>\n",
       "      <td>10</td>\n",
       "      <td>0.036383</td>\n",
       "    </tr>\n",
       "    <tr>\n",
       "      <th>3</th>\n",
       "      <td>8.602642</td>\n",
       "      <td>10</td>\n",
       "      <td>1</td>\n",
       "      <td>10</td>\n",
       "      <td>1.952609</td>\n",
       "    </tr>\n",
       "  </tbody>\n",
       "</table>\n",
       "</div>"
      ],
      "text/plain": [
       "      values  sample  N  parameter  square_error\n",
       "0   8.909919       1  1         10      1.188277\n",
       "0   8.916959      10  1         10      1.172978\n",
       "1  10.859788      10  1         10      0.739235\n",
       "2   9.809256      10  1         10      0.036383\n",
       "3   8.602642      10  1         10      1.952609"
      ]
     },
     "execution_count": 39,
     "metadata": {},
     "output_type": "execute_result"
    }
   ],
   "source": [
    "df_e = estimators_samples_table(gen_normal_sample, estimate_mean)\n",
    "df_e.loc[:,\"parameter\"] = MU\n",
    "df_e.loc[:,\"square_error\"] = (df_e[\"values\"] - df_e[\"parameter\"]).apply(lambda e: e**2)\n",
    "df_e.head()"
   ]
  },
  {
   "cell_type": "code",
   "execution_count": 40,
   "metadata": {},
   "outputs": [
    {
     "data": {
      "text/html": [
       "<div>\n",
       "<style scoped>\n",
       "    .dataframe tbody tr th:only-of-type {\n",
       "        vertical-align: middle;\n",
       "    }\n",
       "\n",
       "    .dataframe tbody tr th {\n",
       "        vertical-align: top;\n",
       "    }\n",
       "\n",
       "    .dataframe thead tr th {\n",
       "        text-align: left;\n",
       "    }\n",
       "\n",
       "    .dataframe thead tr:last-of-type th {\n",
       "        text-align: right;\n",
       "    }\n",
       "</style>\n",
       "<table border=\"1\" class=\"dataframe\">\n",
       "  <thead>\n",
       "    <tr>\n",
       "      <th></th>\n",
       "      <th colspan=\"8\" halign=\"left\">square_error</th>\n",
       "    </tr>\n",
       "    <tr>\n",
       "      <th></th>\n",
       "      <th>count</th>\n",
       "      <th>mean</th>\n",
       "      <th>std</th>\n",
       "      <th>min</th>\n",
       "      <th>25%</th>\n",
       "      <th>50%</th>\n",
       "      <th>75%</th>\n",
       "      <th>max</th>\n",
       "    </tr>\n",
       "    <tr>\n",
       "      <th>sample</th>\n",
       "      <th></th>\n",
       "      <th></th>\n",
       "      <th></th>\n",
       "      <th></th>\n",
       "      <th></th>\n",
       "      <th></th>\n",
       "      <th></th>\n",
       "      <th></th>\n",
       "    </tr>\n",
       "  </thead>\n",
       "  <tbody>\n",
       "    <tr>\n",
       "      <th>1</th>\n",
       "      <td>5.0</td>\n",
       "      <td>0.325363</td>\n",
       "      <td>0.512359</td>\n",
       "      <td>1.947724e-05</td>\n",
       "      <td>0.000027</td>\n",
       "      <td>0.030550</td>\n",
       "      <td>0.407940</td>\n",
       "      <td>1.188277</td>\n",
       "    </tr>\n",
       "    <tr>\n",
       "      <th>10</th>\n",
       "      <td>50.0</td>\n",
       "      <td>0.165588</td>\n",
       "      <td>0.388845</td>\n",
       "      <td>1.284134e-07</td>\n",
       "      <td>0.000113</td>\n",
       "      <td>0.004812</td>\n",
       "      <td>0.049409</td>\n",
       "      <td>1.952609</td>\n",
       "    </tr>\n",
       "    <tr>\n",
       "      <th>100</th>\n",
       "      <td>500.0</td>\n",
       "      <td>0.214806</td>\n",
       "      <td>0.710978</td>\n",
       "      <td>3.455999e-08</td>\n",
       "      <td>0.000136</td>\n",
       "      <td>0.003067</td>\n",
       "      <td>0.054052</td>\n",
       "      <td>8.064222</td>\n",
       "    </tr>\n",
       "    <tr>\n",
       "      <th>1000</th>\n",
       "      <td>5000.0</td>\n",
       "      <td>0.221664</td>\n",
       "      <td>0.763292</td>\n",
       "      <td>6.065795e-11</td>\n",
       "      <td>0.000151</td>\n",
       "      <td>0.002869</td>\n",
       "      <td>0.059207</td>\n",
       "      <td>13.218792</td>\n",
       "    </tr>\n",
       "    <tr>\n",
       "      <th>10000</th>\n",
       "      <td>50000.0</td>\n",
       "      <td>0.226460</td>\n",
       "      <td>0.754208</td>\n",
       "      <td>9.186925e-13</td>\n",
       "      <td>0.000158</td>\n",
       "      <td>0.002868</td>\n",
       "      <td>0.061709</td>\n",
       "      <td>16.867908</td>\n",
       "    </tr>\n",
       "  </tbody>\n",
       "</table>\n",
       "</div>"
      ],
      "text/plain": [
       "       square_error                                                        \\\n",
       "              count      mean       std           min       25%       50%   \n",
       "sample                                                                      \n",
       "1               5.0  0.325363  0.512359  1.947724e-05  0.000027  0.030550   \n",
       "10             50.0  0.165588  0.388845  1.284134e-07  0.000113  0.004812   \n",
       "100           500.0  0.214806  0.710978  3.455999e-08  0.000136  0.003067   \n",
       "1000         5000.0  0.221664  0.763292  6.065795e-11  0.000151  0.002869   \n",
       "10000       50000.0  0.226460  0.754208  9.186925e-13  0.000158  0.002868   \n",
       "\n",
       "                             \n",
       "             75%        max  \n",
       "sample                       \n",
       "1       0.407940   1.188277  \n",
       "10      0.049409   1.952609  \n",
       "100     0.054052   8.064222  \n",
       "1000    0.059207  13.218792  \n",
       "10000   0.061709  16.867908  "
      ]
     },
     "execution_count": 40,
     "metadata": {},
     "output_type": "execute_result"
    }
   ],
   "source": [
    "df_e[[\"sample\", \"square_error\"]].groupby(by=\"sample\").describe()"
   ]
  },
  {
   "cell_type": "markdown",
   "metadata": {},
   "source": [
    "### Uniform distribution"
   ]
  },
  {
   "cell_type": "code",
   "execution_count": 66,
   "metadata": {},
   "outputs": [],
   "source": [
    "LOW = 10\n",
    "MAX = 1\n",
    "MU = (MAX + LOW)/2\n",
    "\n",
    "def gen_uniform_sample(N, lower=LOW, upper=MAX):\n",
    "    return np.random.uniform(lower, upper, N)"
   ]
  },
  {
   "cell_type": "markdown",
   "metadata": {},
   "source": [
    "### Uniform distribution: Sesgo"
   ]
  },
  {
   "cell_type": "code",
   "execution_count": 67,
   "metadata": {},
   "outputs": [
    {
     "data": {
      "text/plain": [
       "[<matplotlib.lines.Line2D at 0x7fa344a1a700>]"
      ]
     },
     "execution_count": 67,
     "metadata": {},
     "output_type": "execute_result"
    },
    {
     "data": {
      "image/png": "[encoded data removed]",
      "text/plain": [
       "<Figure size 432x288 with 1 Axes>"
      ]
     },
     "metadata": {
      "needs_background": "light"
     },
     "output_type": "display_data"
    }
   ],
   "source": [
    "MSG = \"\"\"\n",
    "El estimador es menos volatil cuando incrementa el número de muestras y no presenta ningún sesgo\n",
    "\"\"\"\n",
    "\n",
    "samples = list(range(1, 10000, 100))\n",
    "expected_values = list(map(lambda e: check_bias(\n",
    "    partial(gen_uniform_sample, 10), estimate_mean, N=e), samples))\n",
    "plt.plot(samples, expected_values, 'o')"
   ]
  },
  {
   "cell_type": "code",
   "execution_count": 69,
   "metadata": {},
   "outputs": [
    {
     "data": {
      "text/plain": [
       "<matplotlib.axes._subplots.AxesSubplot at 0x7fa34498fac0>"
      ]
     },
     "execution_count": 69,
     "metadata": {},
     "output_type": "execute_result"
    },
    {
     "data": {
      "image/png": "[encoded data removed]",
      "text/plain": [
       "<Figure size 432x288 with 1 Axes>"
      ]
     },
     "metadata": {
      "needs_background": "light"
     },
     "output_type": "display_data"
    }
   ],
   "source": [
    "MSG = \"\"\"\n",
    "Hacer un box plot con la distribución de probabilidad de la muestra con estos tamanos:\n",
    "1, 10, 100, 1000, 10000, 100000.\n",
    "\n",
    "El estimador no presenta ningún sesgo en ocasiones su valor es inferior y en otras superior al paramtero\n",
    "\"\"\"\n",
    "\n",
    "df = compute_samples_table(gen_uniform_sample, estimate_mean)\n",
    "sns.boxplot(data=df, y=\"values\", x=\"sample\", showfliers=True)"
   ]
  },
  {
   "cell_type": "markdown",
   "metadata": {},
   "source": [
    "### Uniform distribution: Consistencia"
   ]
  },
  {
   "cell_type": "code",
   "execution_count": 72,
   "metadata": {},
   "outputs": [],
   "source": [
    "MSG = \"\"\"\n",
    "El estimador mejora de forma considerable conforme incrementa el número de muestras, el parametro esta bn estimado\n",
    "aunque la varianza incrementa cuando el tamaño de las muestras es muy pequeño.\n",
    "\"\"\""
   ]
  },
  {
   "cell_type": "code",
   "execution_count": 73,
   "metadata": {},
   "outputs": [
    {
     "data": {
      "text/plain": [
       "<matplotlib.axes._subplots.AxesSubplot at 0x7fa3448fe790>"
      ]
     },
     "execution_count": 73,
     "metadata": {},
     "output_type": "execute_result"
    },
    {
     "data": {
      "image/png": "[encoded data removed]",
      "text/plain": [
       "<Figure size 1152x720 with 1 Axes>"
      ]
     },
     "metadata": {
      "needs_background": "light"
     },
     "output_type": "display_data"
    }
   ],
   "source": [
    "df_e = estimators_samples_table(gen_uniform_sample, estimate_mean)\n",
    "fig = plt.figure(figsize=(16, 10))\n",
    "ax = fig.add_subplot(1, 1, 1)\n",
    "sns.boxplot(ax=ax, data=df_e, y=\"values\", x=\"sample\", hue=\"N\", showfliers=True)"
   ]
  },
  {
   "cell_type": "markdown",
   "metadata": {},
   "source": [
    "### Uniform distribution: Error"
   ]
  },
  {
   "cell_type": "code",
   "execution_count": 34,
   "metadata": {},
   "outputs": [],
   "source": [
    "MSG = \"\"\"\n",
    "Lo que yo esperaria es que el mean square error del parametro disminuya conforme incrementa el número de muestras.\n",
    "No siempre es el menor sin embargo el valor es más constante entre más muestras, no cambia tanto entre ejecuciones.\n",
    "\"\"\""
   ]
  },
  {
   "cell_type": "code",
   "execution_count": 62,
   "metadata": {},
   "outputs": [
    {
     "data": {
      "text/html": [
       "<div>\n",
       "<style scoped>\n",
       "    .dataframe tbody tr th:only-of-type {\n",
       "        vertical-align: middle;\n",
       "    }\n",
       "\n",
       "    .dataframe tbody tr th {\n",
       "        vertical-align: top;\n",
       "    }\n",
       "\n",
       "    .dataframe thead th {\n",
       "        text-align: right;\n",
       "    }\n",
       "</style>\n",
       "<table border=\"1\" class=\"dataframe\">\n",
       "  <thead>\n",
       "    <tr style=\"text-align: right;\">\n",
       "      <th></th>\n",
       "      <th>values</th>\n",
       "      <th>sample</th>\n",
       "      <th>N</th>\n",
       "      <th>parameter</th>\n",
       "      <th>square_error</th>\n",
       "    </tr>\n",
       "  </thead>\n",
       "  <tbody>\n",
       "    <tr>\n",
       "      <th>0</th>\n",
       "      <td>5.798689</td>\n",
       "      <td>1</td>\n",
       "      <td>1</td>\n",
       "      <td>5.5</td>\n",
       "      <td>0.089215</td>\n",
       "    </tr>\n",
       "    <tr>\n",
       "      <th>0</th>\n",
       "      <td>3.774975</td>\n",
       "      <td>10</td>\n",
       "      <td>1</td>\n",
       "      <td>5.5</td>\n",
       "      <td>2.975712</td>\n",
       "    </tr>\n",
       "    <tr>\n",
       "      <th>1</th>\n",
       "      <td>8.209704</td>\n",
       "      <td>10</td>\n",
       "      <td>1</td>\n",
       "      <td>5.5</td>\n",
       "      <td>7.342495</td>\n",
       "    </tr>\n",
       "    <tr>\n",
       "      <th>2</th>\n",
       "      <td>6.235752</td>\n",
       "      <td>10</td>\n",
       "      <td>1</td>\n",
       "      <td>5.5</td>\n",
       "      <td>0.541331</td>\n",
       "    </tr>\n",
       "    <tr>\n",
       "      <th>3</th>\n",
       "      <td>5.193334</td>\n",
       "      <td>10</td>\n",
       "      <td>1</td>\n",
       "      <td>5.5</td>\n",
       "      <td>0.094044</td>\n",
       "    </tr>\n",
       "  </tbody>\n",
       "</table>\n",
       "</div>"
      ],
      "text/plain": [
       "     values  sample  N  parameter  square_error\n",
       "0  5.798689       1  1        5.5      0.089215\n",
       "0  3.774975      10  1        5.5      2.975712\n",
       "1  8.209704      10  1        5.5      7.342495\n",
       "2  6.235752      10  1        5.5      0.541331\n",
       "3  5.193334      10  1        5.5      0.094044"
      ]
     },
     "execution_count": 62,
     "metadata": {},
     "output_type": "execute_result"
    }
   ],
   "source": [
    "df_e = estimators_samples_table(gen_uniform_sample, estimate_mean)\n",
    "df_e.loc[:,\"parameter\"] = MU\n",
    "df_e.loc[:,\"square_error\"] = (df_e[\"values\"] - df_e[\"parameter\"]).apply(lambda e: e**2)\n",
    "df_e.head()"
   ]
  },
  {
   "cell_type": "code",
   "execution_count": 63,
   "metadata": {},
   "outputs": [
    {
     "data": {
      "text/html": [
       "<div>\n",
       "<style scoped>\n",
       "    .dataframe tbody tr th:only-of-type {\n",
       "        vertical-align: middle;\n",
       "    }\n",
       "\n",
       "    .dataframe tbody tr th {\n",
       "        vertical-align: top;\n",
       "    }\n",
       "\n",
       "    .dataframe thead tr th {\n",
       "        text-align: left;\n",
       "    }\n",
       "\n",
       "    .dataframe thead tr:last-of-type th {\n",
       "        text-align: right;\n",
       "    }\n",
       "</style>\n",
       "<table border=\"1\" class=\"dataframe\">\n",
       "  <thead>\n",
       "    <tr>\n",
       "      <th></th>\n",
       "      <th colspan=\"8\" halign=\"left\">square_error</th>\n",
       "    </tr>\n",
       "    <tr>\n",
       "      <th></th>\n",
       "      <th>count</th>\n",
       "      <th>mean</th>\n",
       "      <th>std</th>\n",
       "      <th>min</th>\n",
       "      <th>25%</th>\n",
       "      <th>50%</th>\n",
       "      <th>75%</th>\n",
       "      <th>max</th>\n",
       "    </tr>\n",
       "    <tr>\n",
       "      <th>sample</th>\n",
       "      <th></th>\n",
       "      <th></th>\n",
       "      <th></th>\n",
       "      <th></th>\n",
       "      <th></th>\n",
       "      <th></th>\n",
       "      <th></th>\n",
       "      <th></th>\n",
       "    </tr>\n",
       "  </thead>\n",
       "  <tbody>\n",
       "    <tr>\n",
       "      <th>1</th>\n",
       "      <td>5.0</td>\n",
       "      <td>0.024277</td>\n",
       "      <td>0.036655</td>\n",
       "      <td>7.301908e-04</td>\n",
       "      <td>0.008023</td>\n",
       "      <td>0.008330</td>\n",
       "      <td>0.015087</td>\n",
       "      <td>0.089215</td>\n",
       "    </tr>\n",
       "    <tr>\n",
       "      <th>10</th>\n",
       "      <td>50.0</td>\n",
       "      <td>0.719555</td>\n",
       "      <td>1.320780</td>\n",
       "      <td>1.469288e-05</td>\n",
       "      <td>0.063339</td>\n",
       "      <td>0.182627</td>\n",
       "      <td>0.673942</td>\n",
       "      <td>7.342495</td>\n",
       "    </tr>\n",
       "    <tr>\n",
       "      <th>100</th>\n",
       "      <td>500.0</td>\n",
       "      <td>0.693024</td>\n",
       "      <td>0.931039</td>\n",
       "      <td>7.777646e-08</td>\n",
       "      <td>0.066249</td>\n",
       "      <td>0.339891</td>\n",
       "      <td>0.961166</td>\n",
       "      <td>6.303476</td>\n",
       "    </tr>\n",
       "    <tr>\n",
       "      <th>1000</th>\n",
       "      <td>5000.0</td>\n",
       "      <td>0.690955</td>\n",
       "      <td>0.939983</td>\n",
       "      <td>2.241721e-07</td>\n",
       "      <td>0.068232</td>\n",
       "      <td>0.334858</td>\n",
       "      <td>0.948430</td>\n",
       "      <td>7.961794</td>\n",
       "    </tr>\n",
       "    <tr>\n",
       "      <th>10000</th>\n",
       "      <td>50000.0</td>\n",
       "      <td>0.671197</td>\n",
       "      <td>0.916031</td>\n",
       "      <td>6.447425e-12</td>\n",
       "      <td>0.069580</td>\n",
       "      <td>0.310248</td>\n",
       "      <td>0.909422</td>\n",
       "      <td>9.627950</td>\n",
       "    </tr>\n",
       "  </tbody>\n",
       "</table>\n",
       "</div>"
      ],
      "text/plain": [
       "       square_error                                                        \\\n",
       "              count      mean       std           min       25%       50%   \n",
       "sample                                                                      \n",
       "1               5.0  0.024277  0.036655  7.301908e-04  0.008023  0.008330   \n",
       "10             50.0  0.719555  1.320780  1.469288e-05  0.063339  0.182627   \n",
       "100           500.0  0.693024  0.931039  7.777646e-08  0.066249  0.339891   \n",
       "1000         5000.0  0.690955  0.939983  2.241721e-07  0.068232  0.334858   \n",
       "10000       50000.0  0.671197  0.916031  6.447425e-12  0.069580  0.310248   \n",
       "\n",
       "                            \n",
       "             75%       max  \n",
       "sample                      \n",
       "1       0.015087  0.089215  \n",
       "10      0.673942  7.342495  \n",
       "100     0.961166  6.303476  \n",
       "1000    0.948430  7.961794  \n",
       "10000   0.909422  9.627950  "
      ]
     },
     "execution_count": 63,
     "metadata": {},
     "output_type": "execute_result"
    }
   ],
   "source": [
    "df_e[[\"sample\", \"square_error\"]].groupby(by=\"sample\").describe()"
   ]
  },
  {
   "cell_type": "markdown",
   "metadata": {},
   "source": [
    "### Exponential distribution"
   ]
  },
  {
   "cell_type": "code",
   "execution_count": 75,
   "metadata": {},
   "outputs": [],
   "source": [
    "LAMBDA = 1.0\n",
    "MU = 1/LAMBDA\n",
    "\n",
    "def gen_exponential_sample(N, lbda=LAMBDA):\n",
    "    return np.random.exponential(lbda, N)"
   ]
  },
  {
   "cell_type": "markdown",
   "metadata": {},
   "source": [
    "### Exponential distribution: Sesgo"
   ]
  },
  {
   "cell_type": "code",
   "execution_count": 77,
   "metadata": {},
   "outputs": [
    {
     "data": {
      "text/plain": [
       "[<matplotlib.lines.Line2D at 0x7fa3443746d0>]"
      ]
     },
     "execution_count": 77,
     "metadata": {},
     "output_type": "execute_result"
    },
    {
     "data": {
      "image/png": "[encoded data removed]",
      "text/plain": [
       "<Figure size 432x288 with 1 Axes>"
      ]
     },
     "metadata": {
      "needs_background": "light"
     },
     "output_type": "display_data"
    }
   ],
   "source": [
    "MSG = \"\"\"\n",
    "El estimador es menos volatil cuando incrementa el número de muestras y no presenta ningún sesgo\n",
    "\"\"\"\n",
    "\n",
    "samples = list(range(1, 10000, 100))\n",
    "expected_values = list(map(lambda e: check_bias(\n",
    "    partial(gen_exponential_sample, 10), estimate_mean, N=e), samples))\n",
    "plt.plot(samples, expected_values, 'o')"
   ]
  },
  {
   "cell_type": "code",
   "execution_count": 79,
   "metadata": {},
   "outputs": [
    {
     "data": {
      "text/plain": [
       "<matplotlib.axes._subplots.AxesSubplot at 0x7fa344381130>"
      ]
     },
     "execution_count": 79,
     "metadata": {},
     "output_type": "execute_result"
    },
    {
     "data": {
      "image/png": "[encoded data removed]",
      "text/plain": [
       "<Figure size 432x288 with 1 Axes>"
      ]
     },
     "metadata": {
      "needs_background": "light"
     },
     "output_type": "display_data"
    }
   ],
   "source": [
    "MSG = \"\"\"\n",
    "Hacer un box plot con la distribución de probabilidad de la muestra con estos tamanos:\n",
    "1, 10, 100, 1000, 10000, 100000.\n",
    "\n",
    "Me da la impresión que el estimador tienen un sesgo positivo\n",
    "\"\"\"\n",
    "\n",
    "df = compute_samples_table(gen_exponential_sample, estimate_mean)\n",
    "sns.boxplot(data=df, y=\"values\", x=\"sample\", showfliers=True)"
   ]
  },
  {
   "cell_type": "markdown",
   "metadata": {},
   "source": [
    "### Exponential distribution: Consistencia"
   ]
  },
  {
   "cell_type": "code",
   "execution_count": 83,
   "metadata": {},
   "outputs": [],
   "source": [
    "MSG = \"\"\"\n",
    "El estimador no funciona bn con muestras de tamaño muy pequeño, aún cuando incrementa el número de muestras el valor\n",
    "estimado del parametro se aleja del valor real, con muestras de tamaño 100 funciona bn aún cuando el número de muestras\n",
    "es pequeño.\n",
    "\"\"\""
   ]
  },
  {
   "cell_type": "code",
   "execution_count": 84,
   "metadata": {},
   "outputs": [
    {
     "data": {
      "text/plain": [
       "<matplotlib.axes._subplots.AxesSubplot at 0x7fa3454a4e20>"
      ]
     },
     "execution_count": 84,
     "metadata": {},
     "output_type": "execute_result"
    },
    {
     "data": {
      "image/png": "[encoded data removed]",
      "text/plain": [
       "<Figure size 1152x720 with 1 Axes>"
      ]
     },
     "metadata": {
      "needs_background": "light"
     },
     "output_type": "display_data"
    }
   ],
   "source": [
    "df_e = estimators_samples_table(gen_exponential_sample, estimate_mean)\n",
    "fig = plt.figure(figsize=(16, 10))\n",
    "ax = fig.add_subplot(1, 1, 1)\n",
    "sns.boxplot(ax=ax, data=df_e, y=\"values\", x=\"sample\", hue=\"N\", showfliers=True)"
   ]
  },
  {
   "cell_type": "markdown",
   "metadata": {},
   "source": [
    "### Exponential distribution: Error"
   ]
  },
  {
   "cell_type": "code",
   "execution_count": 88,
   "metadata": {},
   "outputs": [],
   "source": [
    "MSG = \"\"\"\n",
    "Comparado con las distribución uniforme y normal el error es MUY grande, es como del 10000%\n",
    "\"\"\""
   ]
  },
  {
   "cell_type": "code",
   "execution_count": 89,
   "metadata": {},
   "outputs": [
    {
     "data": {
      "text/html": [
       "<div>\n",
       "<style scoped>\n",
       "    .dataframe tbody tr th:only-of-type {\n",
       "        vertical-align: middle;\n",
       "    }\n",
       "\n",
       "    .dataframe tbody tr th {\n",
       "        vertical-align: top;\n",
       "    }\n",
       "\n",
       "    .dataframe thead th {\n",
       "        text-align: right;\n",
       "    }\n",
       "</style>\n",
       "<table border=\"1\" class=\"dataframe\">\n",
       "  <thead>\n",
       "    <tr style=\"text-align: right;\">\n",
       "      <th></th>\n",
       "      <th>values</th>\n",
       "      <th>sample</th>\n",
       "      <th>N</th>\n",
       "      <th>parameter</th>\n",
       "      <th>square_error</th>\n",
       "    </tr>\n",
       "  </thead>\n",
       "  <tbody>\n",
       "    <tr>\n",
       "      <th>0</th>\n",
       "      <td>9.156516</td>\n",
       "      <td>1</td>\n",
       "      <td>1</td>\n",
       "      <td>1.0</td>\n",
       "      <td>66.528752</td>\n",
       "    </tr>\n",
       "    <tr>\n",
       "      <th>0</th>\n",
       "      <td>3.464042</td>\n",
       "      <td>10</td>\n",
       "      <td>1</td>\n",
       "      <td>1.0</td>\n",
       "      <td>6.071504</td>\n",
       "    </tr>\n",
       "    <tr>\n",
       "      <th>1</th>\n",
       "      <td>9.573505</td>\n",
       "      <td>10</td>\n",
       "      <td>1</td>\n",
       "      <td>1.0</td>\n",
       "      <td>73.504983</td>\n",
       "    </tr>\n",
       "    <tr>\n",
       "      <th>2</th>\n",
       "      <td>7.643092</td>\n",
       "      <td>10</td>\n",
       "      <td>1</td>\n",
       "      <td>1.0</td>\n",
       "      <td>44.130675</td>\n",
       "    </tr>\n",
       "    <tr>\n",
       "      <th>3</th>\n",
       "      <td>2.891329</td>\n",
       "      <td>10</td>\n",
       "      <td>1</td>\n",
       "      <td>1.0</td>\n",
       "      <td>3.577127</td>\n",
       "    </tr>\n",
       "  </tbody>\n",
       "</table>\n",
       "</div>"
      ],
      "text/plain": [
       "     values  sample  N  parameter  square_error\n",
       "0  9.156516       1  1        1.0     66.528752\n",
       "0  3.464042      10  1        1.0      6.071504\n",
       "1  9.573505      10  1        1.0     73.504983\n",
       "2  7.643092      10  1        1.0     44.130675\n",
       "3  2.891329      10  1        1.0      3.577127"
      ]
     },
     "execution_count": 89,
     "metadata": {},
     "output_type": "execute_result"
    }
   ],
   "source": [
    "df_e = estimators_samples_table(gen_uniform_sample, estimate_mean)\n",
    "df_e.loc[:,\"parameter\"] = MU\n",
    "df_e.loc[:,\"square_error\"] = (df_e[\"values\"] - df_e[\"parameter\"]).apply(lambda e: e**2)\n",
    "df_e.head()"
   ]
  },
  {
   "cell_type": "code",
   "execution_count": 90,
   "metadata": {},
   "outputs": [
    {
     "data": {
      "text/html": [
       "<div>\n",
       "<style scoped>\n",
       "    .dataframe tbody tr th:only-of-type {\n",
       "        vertical-align: middle;\n",
       "    }\n",
       "\n",
       "    .dataframe tbody tr th {\n",
       "        vertical-align: top;\n",
       "    }\n",
       "\n",
       "    .dataframe thead tr th {\n",
       "        text-align: left;\n",
       "    }\n",
       "\n",
       "    .dataframe thead tr:last-of-type th {\n",
       "        text-align: right;\n",
       "    }\n",
       "</style>\n",
       "<table border=\"1\" class=\"dataframe\">\n",
       "  <thead>\n",
       "    <tr>\n",
       "      <th></th>\n",
       "      <th colspan=\"8\" halign=\"left\">square_error</th>\n",
       "    </tr>\n",
       "    <tr>\n",
       "      <th></th>\n",
       "      <th>count</th>\n",
       "      <th>mean</th>\n",
       "      <th>std</th>\n",
       "      <th>min</th>\n",
       "      <th>25%</th>\n",
       "      <th>50%</th>\n",
       "      <th>75%</th>\n",
       "      <th>max</th>\n",
       "    </tr>\n",
       "    <tr>\n",
       "      <th>sample</th>\n",
       "      <th></th>\n",
       "      <th></th>\n",
       "      <th></th>\n",
       "      <th></th>\n",
       "      <th></th>\n",
       "      <th></th>\n",
       "      <th></th>\n",
       "      <th></th>\n",
       "    </tr>\n",
       "  </thead>\n",
       "  <tbody>\n",
       "    <tr>\n",
       "      <th>1</th>\n",
       "      <td>5.0</td>\n",
       "      <td>29.679586</td>\n",
       "      <td>20.617759</td>\n",
       "      <td>1.954163e+01</td>\n",
       "      <td>19.836389</td>\n",
       "      <td>20.709245</td>\n",
       "      <td>21.781913</td>\n",
       "      <td>66.528752</td>\n",
       "    </tr>\n",
       "    <tr>\n",
       "      <th>10</th>\n",
       "      <td>50.0</td>\n",
       "      <td>22.695372</td>\n",
       "      <td>15.714782</td>\n",
       "      <td>1.344665e+00</td>\n",
       "      <td>17.644352</td>\n",
       "      <td>20.030437</td>\n",
       "      <td>21.046132</td>\n",
       "      <td>79.698968</td>\n",
       "    </tr>\n",
       "    <tr>\n",
       "      <th>100</th>\n",
       "      <td>500.0</td>\n",
       "      <td>22.202682</td>\n",
       "      <td>11.715489</td>\n",
       "      <td>2.622826e-03</td>\n",
       "      <td>19.245023</td>\n",
       "      <td>20.262665</td>\n",
       "      <td>21.839279</td>\n",
       "      <td>77.251702</td>\n",
       "    </tr>\n",
       "    <tr>\n",
       "      <th>1000</th>\n",
       "      <td>5000.0</td>\n",
       "      <td>21.909182</td>\n",
       "      <td>11.862903</td>\n",
       "      <td>1.362487e-05</td>\n",
       "      <td>19.031927</td>\n",
       "      <td>20.268515</td>\n",
       "      <td>21.630898</td>\n",
       "      <td>80.857865</td>\n",
       "    </tr>\n",
       "    <tr>\n",
       "      <th>10000</th>\n",
       "      <td>50000.0</td>\n",
       "      <td>21.763075</td>\n",
       "      <td>11.683861</td>\n",
       "      <td>6.515502e-10</td>\n",
       "      <td>18.985760</td>\n",
       "      <td>20.253010</td>\n",
       "      <td>21.537078</td>\n",
       "      <td>80.985331</td>\n",
       "    </tr>\n",
       "  </tbody>\n",
       "</table>\n",
       "</div>"
      ],
      "text/plain": [
       "       square_error                                                            \\\n",
       "              count       mean        std           min        25%        50%   \n",
       "sample                                                                          \n",
       "1               5.0  29.679586  20.617759  1.954163e+01  19.836389  20.709245   \n",
       "10             50.0  22.695372  15.714782  1.344665e+00  17.644352  20.030437   \n",
       "100           500.0  22.202682  11.715489  2.622826e-03  19.245023  20.262665   \n",
       "1000         5000.0  21.909182  11.862903  1.362487e-05  19.031927  20.268515   \n",
       "10000       50000.0  21.763075  11.683861  6.515502e-10  18.985760  20.253010   \n",
       "\n",
       "                              \n",
       "              75%        max  \n",
       "sample                        \n",
       "1       21.781913  66.528752  \n",
       "10      21.046132  79.698968  \n",
       "100     21.839279  77.251702  \n",
       "1000    21.630898  80.857865  \n",
       "10000   21.537078  80.985331  "
      ]
     },
     "execution_count": 90,
     "metadata": {},
     "output_type": "execute_result"
    }
   ],
   "source": [
    "df_e[[\"sample\", \"square_error\"]].groupby(by=\"sample\").describe()"
   ]
  },
  {
   "cell_type": "code",
   "execution_count": null,
   "metadata": {},
   "outputs": [],
   "source": []
  }
 ],
 "metadata": {
  "jupytext": {
   "formats": "ipynb,Rmd"
  },
  "kernelspec": {
   "display_name": "Python 3",
   "language": "python",
   "name": "python3"
  },
  "language_info": {
   "codemirror_mode": {
    "name": "ipython",
    "version": 3
   },
   "file_extension": ".py",
   "mimetype": "text/x-python",
   "name": "python",
   "nbconvert_exporter": "python",
   "pygments_lexer": "ipython3",
   "version": "3.8.2"
  }
 },
 "nbformat": 4,
 "nbformat_minor": 4
}
