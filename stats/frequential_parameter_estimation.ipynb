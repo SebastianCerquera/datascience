{
 "cells": [
  {
   "cell_type": "code",
   "execution_count": 2,
   "metadata": {},
   "outputs": [],
   "source": [
    "import pandas as pd\n",
    "import seaborn as sns"
   ]
  },
  {
   "cell_type": "code",
   "execution_count": 3,
   "metadata": {},
   "outputs": [],
   "source": [
    "import numpy as np\n",
    "from functools import partial\n",
    "\n",
    "import matplotlib.pyplot as plt"
   ]
  },
  {
   "cell_type": "markdown",
   "metadata": {},
   "source": [
    "# Estimación frequentista de parametros\n",
    "\n",
    "Estoy siguiendo este curso para aprender acerca de inferencia estadistica, Este video toca el tema desde un punto de vista frecuentista.\n",
    "\n",
    "- https://www.youtube.com/watch?v=4UJc0S8APm4\n",
    "\n",
    "Dado un parametro $\\theta$ y se produce una variable aleatoria, para la cual nuestro estimador genera otra variable aleatoria $\\Theta$ que es nuestro valor estimado. El estimador funciona tanto como con valores escalares como con vectores.\n",
    "\n",
    "<img  src=\"images/estimator.png\"/>\n",
    "\n",
    "El objetivo es construir un estimador con error ($\\Theta$ - $\\theta$) tan pequeno como sea posible.\n",
    "\n",
    "\n",
    "<img  src=\"images/estimator-caracteristics.png\"/>\n",
    "\n",
    "Un buen estimador cumple con las siguientes caracteristicas, el valor de $\\theta$ es desconocido, \n",
    "\n",
    "- No tiene sesgos: El valor esperado del estimador $E[\\Theta]$ se acerca a $\\theta$\n",
    "- Es consistente: $\\Theta_n$ --> $\\theta$ \n",
    "- Tiene un mean square error pequeno: \n",
    "\n",
    "\n",
    "\n",
    "El describe 2 metodos para construir un estimador de un parametro:\n",
    "\n",
    "- Maximun likehood\n",
    "- Sample distribution (CLT theorem)"
   ]
  },
  {
   "cell_type": "code",
   "execution_count": 4,
   "metadata": {},
   "outputs": [],
   "source": [
    "def check_bias(distribution_generator, estimator, N=1000):\n",
    "    results = []\n",
    "    for i in range(N):\n",
    "        results.append(estimator(distribution_generator()))\n",
    "    return np.mean(results)\n",
    "\n",
    "def compute_samples_table(distribution_generator, estimator):\n",
    "    results = []\n",
    "    for i in [1, 10, 100, 1000, 10000]:\n",
    "        X = distribution_generator(i)\n",
    "        mu = estimator(X)\n",
    "        df = pd.DataFrame({'values': X})\n",
    "        df.loc[:, \"estimate\"] = mu\n",
    "        df.loc[:, \"sample\"] = i\n",
    "        results.append(df)\n",
    "    return pd.concat(results)\n",
    "\n",
    "def estimators_samples_fixed_N(distribution_generator, estimator, N):\n",
    "    results = []\n",
    "    for i in [1, 10, 100, 1000, 10000]:\n",
    "        estimators = []\n",
    "        for j in range(i):\n",
    "            mu = estimator(distribution_generator(N))\n",
    "            estimators.append(mu)\n",
    "        df = pd.DataFrame({'values': estimators})\n",
    "        df.loc[:, \"sample\"] = i\n",
    "        results.append(df)\n",
    "    return pd.concat(results)\n",
    "\n",
    "def estimators_samples_table(distribution_generator, estimator):\n",
    "    results = []\n",
    "    for i in [1, 10, 100, 1000, 10000]:\n",
    "        df = estimators_samples_fixed_N(gen_normal_sample, \n",
    "                                        estimate_mean, i)\n",
    "        df.loc[:, \"N\"] = i\n",
    "        results.append(df)\n",
    "    return pd.concat(results)"
   ]
  },
  {
   "cell_type": "markdown",
   "metadata": {},
   "source": [
    "## Maximun likehood"
   ]
  },
  {
   "cell_type": "code",
   "execution_count": null,
   "metadata": {},
   "outputs": [],
   "source": []
  },
  {
   "cell_type": "markdown",
   "metadata": {},
   "source": [
    "# Sample distribution\n",
    "\n",
    "Construir un estimador usando el teorema central del limite:\n",
    "\n",
    "- Verificar que el valor esperado del estimador se apróxime al valor del parametro.\n",
    "- Verificar que el valor del estimador mejora y consistente conforme incrementa el número de muestras.\n",
    "- Verificar el mean squre error, debería ser más pequeno entre mas datos por la ley de los grandes números.\n",
    "\n",
    "### Sample mean distribution\n",
    "\n",
    "El estimador se puede construir con el promedio de los datos de la muestra: $\\dfrac{\\sum_{n=1}^{N} x_i} N$"
   ]
  },
  {
   "cell_type": "code",
   "execution_count": null,
   "metadata": {},
   "outputs": [],
   "source": [
    "def estimate_mean(X):\n",
    "    return np.mean(X)"
   ]
  },
  {
   "cell_type": "markdown",
   "metadata": {},
   "source": [
    "### Normal distribution\n",
    "\n",
    "Usar el paquete de numpy para generar muestras de una distribución normal, construir el estimador para la media y verificar los resultados."
   ]
  },
  {
   "cell_type": "code",
   "execution_count": 25,
   "metadata": {},
   "outputs": [],
   "source": [
    "MU = 10\n",
    "SIGMA = 1\n",
    "\n",
    "def gen_normal_sample(N, mu=MU, sigma=SIGMA):\n",
    "    return np.random.normal(mu, sigma, N)"
   ]
  },
  {
   "cell_type": "markdown",
   "metadata": {},
   "source": [
    "### Normal distribution: Sesgo"
   ]
  },
  {
   "cell_type": "code",
   "execution_count": 26,
   "metadata": {},
   "outputs": [
    {
     "data": {
      "text/plain": [
       "[<matplotlib.lines.Line2D at 0x7fa346496f10>]"
      ]
     },
     "execution_count": 26,
     "metadata": {},
     "output_type": "execute_result"
    },
    {
     "data": {
      "image/png": "[encoded data removed]",
      "text/plain": [
       "<Figure size 432x288 with 1 Axes>"
      ]
     },
     "metadata": {
      "needs_background": "light"
     },
     "output_type": "display_data"
    }
   ],
   "source": [
    "MSG = \"\"\"\n",
    "El estimador no presenta es menos volatil cuando incrementa el número de muestras\n",
    "\"\"\"\n",
    "\n",
    "samples = list(range(1, 10000, 100))\n",
    "expected_values = list(map(lambda e: check_bias(\n",
    "    partial(gen_normal_sample, 10), estimate_mean, N=e), samples))\n",
    "plt.plot(samples, expected_values, 'o')"
   ]
  },
  {
   "cell_type": "code",
   "execution_count": 27,
   "metadata": {},
   "outputs": [
    {
     "data": {
      "text/plain": [
       "<matplotlib.axes._subplots.AxesSubplot at 0x7fa346664220>"
      ]
     },
     "execution_count": 27,
     "metadata": {},
     "output_type": "execute_result"
    },
    {
     "data": {
      "image/png": "[encoded data removed]",
      "text/plain": [
       "<Figure size 432x288 with 1 Axes>"
      ]
     },
     "metadata": {
      "needs_background": "light"
     },
     "output_type": "display_data"
    }
   ],
   "source": [
    "MSG = \"\"\"\n",
    "Hacer un box plot con la distribución de probabilidad de la muestra con estos tamanos:\n",
    "1, 10, 100, 1000, 10000, 100000.\n",
    "\n",
    "El resultado tiene sentido entre más puntos las distribución tiene menos\n",
    "sesgo.\n",
    "\"\"\"\n",
    "\n",
    "df = compute_samples_table(gen_normal_sample, estimate_mean)\n",
    "sns.boxplot(data=df, y=\"values\", x=\"sample\", showfliers=True)"
   ]
  },
  {
   "cell_type": "markdown",
   "metadata": {},
   "source": [
    "### Normal distribution: Consistencia"
   ]
  },
  {
   "cell_type": "code",
   "execution_count": 28,
   "metadata": {},
   "outputs": [
    {
     "data": {
      "text/plain": [
       "[<matplotlib.lines.Line2D at 0x7fa3467ac0d0>]"
      ]
     },
     "execution_count": 28,
     "metadata": {},
     "output_type": "execute_result"
    },
    {
     "data": {
      "image/png": "[encoded data removed]",
      "text/plain": [
       "<Figure size 432x288 with 1 Axes>"
      ]
     },
     "metadata": {
      "needs_background": "light"
     },
     "output_type": "display_data"
    }
   ],
   "source": [
    "MSG = \"\"\"\n",
    "El estimado debería acercarcse a teta, pero no lo esta haciendo.\n",
    "\n",
    "Algo estoy haciendo mal, el dice que el estimador tiene a theta en proababilidad,\n",
    "que quiere decir?\n",
    "\"\"\"\n",
    "\n",
    "samples = list(range(1, 10000, 100))\n",
    "expected_values = list(map(lambda e: \n",
    "                estimate_mean(gen_normal_sample(e)), samples))\n",
    "plt.plot(samples, expected_values, 'o')"
   ]
  },
  {
   "cell_type": "code",
   "execution_count": 29,
   "metadata": {},
   "outputs": [],
   "source": [
    "MSG = \"\"\"\n",
    "Hacer un box plot con la distribución de probabilidad del estimador, la idea es\n",
    "generar k muestras de tamano n, graficar la distribución de estas k muestras,\n",
    "entre más grande el número k menos varianza debería tener la distribución.\n",
    "\n",
    "El estimador es consistente, aun con muestras pequenas la distribución\n",
    "del estimador tiende hacia el parametro.\n",
    "\"\"\""
   ]
  },
  {
   "cell_type": "code",
   "execution_count": 33,
   "metadata": {},
   "outputs": [
    {
     "data": {
      "text/plain": [
       "<matplotlib.axes._subplots.AxesSubplot at 0x7fa346ad0e20>"
      ]
     },
     "execution_count": 33,
     "metadata": {},
     "output_type": "execute_result"
    },
    {
     "data": {
      "image/png": "[encoded data removed]",
      "text/plain": [
       "<Figure size 1152x720 with 1 Axes>"
      ]
     },
     "metadata": {
      "needs_background": "light"
     },
     "output_type": "display_data"
    }
   ],
   "source": [
    "df_e = estimators_samples_table(gen_normal_sample, estimate_mean)\n",
    "fig = plt.figure(figsize=(16, 10))\n",
    "ax = fig.add_subplot(1, 1, 1)\n",
    "sns.boxplot(ax=ax, data=df_e, y=\"values\", x=\"sample\", hue=\"N\", showfliers=False)"
   ]
  },
  {
   "cell_type": "markdown",
   "metadata": {},
   "source": [
    "### Normal distribution: Error"
   ]
  },
  {
   "cell_type": "code",
   "execution_count": 34,
   "metadata": {},
   "outputs": [],
   "source": [
    "MSG = \"\"\"\n",
    "Lo que yo esperaria es que el mean square error del parametro disminuya conforme incrementa el número de muestras.\n",
    "No siempre es el menor sin embargo el valor es más constante entre más muestras, no cambia tanto entre ejecuciones.\n",
    "\"\"\""
   ]
  },
  {
   "cell_type": "code",
   "execution_count": 39,
   "metadata": {},
   "outputs": [
    {
     "data": {
      "text/html": [
       "<div>\n",
       "<style scoped>\n",
       "    .dataframe tbody tr th:only-of-type {\n",
       "        vertical-align: middle;\n",
       "    }\n",
       "\n",
       "    .dataframe tbody tr th {\n",
       "        vertical-align: top;\n",
       "    }\n",
       "\n",
       "    .dataframe thead th {\n",
       "        text-align: right;\n",
       "    }\n",
       "</style>\n",
       "<table border=\"1\" class=\"dataframe\">\n",
       "  <thead>\n",
       "    <tr style=\"text-align: right;\">\n",
       "      <th></th>\n",
       "      <th>values</th>\n",
       "      <th>sample</th>\n",
       "      <th>N</th>\n",
       "      <th>parameter</th>\n",
       "      <th>square_error</th>\n",
       "    </tr>\n",
       "  </thead>\n",
       "  <tbody>\n",
       "    <tr>\n",
       "      <th>0</th>\n",
       "      <td>8.909919</td>\n",
       "      <td>1</td>\n",
       "      <td>1</td>\n",
       "      <td>10</td>\n",
       "      <td>1.188277</td>\n",
       "    </tr>\n",
       "    <tr>\n",
       "      <th>0</th>\n",
       "      <td>8.916959</td>\n",
       "      <td>10</td>\n",
       "      <td>1</td>\n",
       "      <td>10</td>\n",
       "      <td>1.172978</td>\n",
       "    </tr>\n",
       "    <tr>\n",
       "      <th>1</th>\n",
       "      <td>10.859788</td>\n",
       "      <td>10</td>\n",
       "      <td>1</td>\n",
       "      <td>10</td>\n",
       "      <td>0.739235</td>\n",
       "    </tr>\n",
       "    <tr>\n",
       "      <th>2</th>\n",
       "      <td>9.809256</td>\n",
       "      <td>10</td>\n",
       "      <td>1</td>\n",
       "      <td>10</td>\n",
       "      <td>0.036383</td>\n",
       "    </tr>\n",
       "    <tr>\n",
       "      <th>3</th>\n",
       "      <td>8.602642</td>\n",
       "      <td>10</td>\n",
       "      <td>1</td>\n",
       "      <td>10</td>\n",
       "      <td>1.952609</td>\n",
       "    </tr>\n",
       "  </tbody>\n",
       "</table>\n",
       "</div>"
      ],
      "text/plain": [
       "      values  sample  N  parameter  square_error\n",
       "0   8.909919       1  1         10      1.188277\n",
       "0   8.916959      10  1         10      1.172978\n",
       "1  10.859788      10  1         10      0.739235\n",
       "2   9.809256      10  1         10      0.036383\n",
       "3   8.602642      10  1         10      1.952609"
      ]
     },
     "execution_count": 39,
     "metadata": {},
     "output_type": "execute_result"
    }
   ],
   "source": [
    "df_e = estimators_samples_table(gen_normal_sample, estimate_mean)\n",
    "df_e.loc[:,\"parameter\"] = MU\n",
    "df_e.loc[:,\"square_error\"] = (df_e[\"values\"] - df_e[\"parameter\"]).apply(lambda e: e**2)\n",
    "df_e.head()"
   ]
  },
  {
   "cell_type": "code",
   "execution_count": 40,
   "metadata": {},
   "outputs": [
    {
     "data": {
      "text/html": [
       "<div>\n",
       "<style scoped>\n",
       "    .dataframe tbody tr th:only-of-type {\n",
       "        vertical-align: middle;\n",
       "    }\n",
       "\n",
       "    .dataframe tbody tr th {\n",
       "        vertical-align: top;\n",
       "    }\n",
       "\n",
       "    .dataframe thead tr th {\n",
       "        text-align: left;\n",
       "    }\n",
       "\n",
       "    .dataframe thead tr:last-of-type th {\n",
       "        text-align: right;\n",
       "    }\n",
       "</style>\n",
       "<table border=\"1\" class=\"dataframe\">\n",
       "  <thead>\n",
       "    <tr>\n",
       "      <th></th>\n",
       "      <th colspan=\"8\" halign=\"left\">square_error</th>\n",
       "    </tr>\n",
       "    <tr>\n",
       "      <th></th>\n",
       "      <th>count</th>\n",
       "      <th>mean</th>\n",
       "      <th>std</th>\n",
       "      <th>min</th>\n",
       "      <th>25%</th>\n",
       "      <th>50%</th>\n",
       "      <th>75%</th>\n",
       "      <th>max</th>\n",
       "    </tr>\n",
       "    <tr>\n",
       "      <th>sample</th>\n",
       "      <th></th>\n",
       "      <th></th>\n",
       "      <th></th>\n",
       "      <th></th>\n",
       "      <th></th>\n",
       "      <th></th>\n",
       "      <th></th>\n",
       "      <th></th>\n",
       "    </tr>\n",
       "  </thead>\n",
       "  <tbody>\n",
       "    <tr>\n",
       "      <th>1</th>\n",
       "      <td>5.0</td>\n",
       "      <td>0.325363</td>\n",
       "      <td>0.512359</td>\n",
       "      <td>1.947724e-05</td>\n",
       "      <td>0.000027</td>\n",
       "      <td>0.030550</td>\n",
       "      <td>0.407940</td>\n",
       "      <td>1.188277</td>\n",
       "    </tr>\n",
       "    <tr>\n",
       "      <th>10</th>\n",
       "      <td>50.0</td>\n",
       "      <td>0.165588</td>\n",
       "      <td>0.388845</td>\n",
       "      <td>1.284134e-07</td>\n",
       "      <td>0.000113</td>\n",
       "      <td>0.004812</td>\n",
       "      <td>0.049409</td>\n",
       "      <td>1.952609</td>\n",
       "    </tr>\n",
       "    <tr>\n",
       "      <th>100</th>\n",
       "      <td>500.0</td>\n",
       "      <td>0.214806</td>\n",
       "      <td>0.710978</td>\n",
       "      <td>3.455999e-08</td>\n",
       "      <td>0.000136</td>\n",
       "      <td>0.003067</td>\n",
       "      <td>0.054052</td>\n",
       "      <td>8.064222</td>\n",
       "    </tr>\n",
       "    <tr>\n",
       "      <th>1000</th>\n",
       "      <td>5000.0</td>\n",
       "      <td>0.221664</td>\n",
       "      <td>0.763292</td>\n",
       "      <td>6.065795e-11</td>\n",
       "      <td>0.000151</td>\n",
       "      <td>0.002869</td>\n",
       "      <td>0.059207</td>\n",
       "      <td>13.218792</td>\n",
       "    </tr>\n",
       "    <tr>\n",
       "      <th>10000</th>\n",
       "      <td>50000.0</td>\n",
       "      <td>0.226460</td>\n",
       "      <td>0.754208</td>\n",
       "      <td>9.186925e-13</td>\n",
       "      <td>0.000158</td>\n",
       "      <td>0.002868</td>\n",
       "      <td>0.061709</td>\n",
       "      <td>16.867908</td>\n",
       "    </tr>\n",
       "  </tbody>\n",
       "</table>\n",
       "</div>"
      ],
      "text/plain": [
       "       square_error                                                        \\\n",
       "              count      mean       std           min       25%       50%   \n",
       "sample                                                                      \n",
       "1               5.0  0.325363  0.512359  1.947724e-05  0.000027  0.030550   \n",
       "10             50.0  0.165588  0.388845  1.284134e-07  0.000113  0.004812   \n",
       "100           500.0  0.214806  0.710978  3.455999e-08  0.000136  0.003067   \n",
       "1000         5000.0  0.221664  0.763292  6.065795e-11  0.000151  0.002869   \n",
       "10000       50000.0  0.226460  0.754208  9.186925e-13  0.000158  0.002868   \n",
       "\n",
       "                             \n",
       "             75%        max  \n",
       "sample                       \n",
       "1       0.407940   1.188277  \n",
       "10      0.049409   1.952609  \n",
       "100     0.054052   8.064222  \n",
       "1000    0.059207  13.218792  \n",
       "10000   0.061709  16.867908  "
      ]
     },
     "execution_count": 40,
     "metadata": {},
     "output_type": "execute_result"
    }
   ],
   "source": [
    "df_e[[\"sample\", \"square_error\"]].groupby(by=\"sample\").describe()"
   ]
  },
  {
   "cell_type": "markdown",
   "metadata": {},
   "source": [
    "### Uniform distribution"
   ]
  },
  {
   "cell_type": "code",
   "execution_count": 41,
   "metadata": {},
   "outputs": [],
   "source": [
    "LOW = 10\n",
    "MAX = 1\n",
    "\n",
    "def gen_uniform_sample(N, lower=LOW, upper=MAX):\n",
    "    return np.random.uniform(lower, upper, 10)"
   ]
  },
  {
   "cell_type": "markdown",
   "metadata": {},
   "source": [
    "### Exponential distribution"
   ]
  },
  {
   "cell_type": "code",
   "execution_count": 24,
   "metadata": {},
   "outputs": [
    {
     "data": {
      "text/plain": [
       "array([221.49720191, 865.09695731, 953.92439168, 840.8799717 ,\n",
       "       615.94717838, 855.34745448, 406.83630633, 697.30127558,\n",
       "       371.0176405 , 750.89002138])"
      ]
     },
     "execution_count": 24,
     "metadata": {},
     "output_type": "execute_result"
    }
   ],
   "source": []
  },
  {
   "cell_type": "code",
   "execution_count": null,
   "metadata": {},
   "outputs": [],
   "source": []
  }
 ],
 "metadata": {
  "jupytext": {
   "formats": "ipynb,Rmd"
  },
  "kernelspec": {
   "display_name": "Python 3",
   "language": "python",
   "name": "python3"
  },
  "language_info": {
   "codemirror_mode": {
    "name": "ipython",
    "version": 3
   },
   "file_extension": ".py",
   "mimetype": "text/x-python",
   "name": "python",
   "nbconvert_exporter": "python",
   "pygments_lexer": "ipython3",
   "version": "3.8.2"
  }
 },
 "nbformat": 4,
 "nbformat_minor": 4
}
