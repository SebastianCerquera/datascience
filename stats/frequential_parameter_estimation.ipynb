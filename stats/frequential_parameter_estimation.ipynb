{
 "cells": [
  {
   "cell_type": "code",
   "execution_count": 1,
   "metadata": {},
   "outputs": [],
   "source": [
    "import numpy as np\n",
    "from functools import partial\n",
    "\n",
    "import matplotlib.pyplot as plt"
   ]
  },
  {
   "cell_type": "markdown",
   "metadata": {},
   "source": [
    "# Estimación frequentista de parametros\n",
    "\n",
    "Estoy siguiendo este curso para aprender acerca de inferencia estadistica, Este video toca el tema desde un punto de vista frecuentista.\n",
    "\n",
    "- https://www.youtube.com/watch?v=4UJc0S8APm4\n",
    "\n",
    "Dado un parametro $\\theta$ y se produce una variable aleatoria, para la cual nuestro estimador genera otra variable aleatoria $\\Theta$ que es nuestro valor estimado. El estimador funciona tanto como con valores escalares como con vectores.\n",
    "\n",
    "<img  src=\"images/estimator.png\"/>\n",
    "\n",
    "El objetivo es construir un estimador con error ($\\Theta$ - $\\theta$) tan pequeno como sea posible.\n",
    "\n",
    "\n",
    "<img  src=\"images/estimator-caracteristics.png\"/>\n",
    "\n",
    "Un buen estimador cumple con las siguientes caracteristicas, el valor de $\\theta$ es desconocido, \n",
    "\n",
    "- No tiene sesgos: El valor esperado del estimador $E[\\Theta]$ se acerca a $\\theta$\n",
    "- Es consistente: $\\Theta_n$ --> $\\theta$ \n",
    "- Tiene un mean square error pequeno: \n",
    "\n",
    "\n",
    "\n",
    "El describe 2 metodos para construir un estimador de un parametro:\n",
    "\n",
    "- Maximun likehood\n",
    "- Sample distribution (CLT theorem)"
   ]
  },
  {
   "cell_type": "code",
   "execution_count": 2,
   "metadata": {},
   "outputs": [],
   "source": [
    "def check_bias(distribution_generator, estimator, N=1000):\n",
    "    results = []\n",
    "    for i in range(N):\n",
    "        results.append(estimator(distribution_generator()))\n",
    "    return np.mean(results)\n",
    "\n",
    "def check_consistency(distribution_generator, estimator, N=1000):\n",
    "    return estimator(distribution_generator(N))"
   ]
  },
  {
   "cell_type": "markdown",
   "metadata": {},
   "source": [
    "## Maximun likehood"
   ]
  },
  {
   "cell_type": "code",
   "execution_count": null,
   "metadata": {},
   "outputs": [],
   "source": []
  },
  {
   "cell_type": "markdown",
   "metadata": {},
   "source": [
    "# Sample distribution\n",
    "\n",
    "Construir un estimador usando el teorema central del limite:\n",
    "\n",
    "- Verificar que el valor esperado del estimador se apróxime al valor del parametro.\n",
    "- Verificar que el valor del estimador mejora y consistente conforme incrementa el número de muestras.\n",
    "- Verificar el mean squre error, debería ser más pequeno entre mas datos por la ley de los grandes números.\n",
    "\n",
    "### Sample mean distribution\n",
    "\n",
    "El estimador se puede construir con el promedio de los datos de la muestra: $\\dfrac{\\sum_{n=1}^{N} x_i} N$"
   ]
  },
  {
   "cell_type": "markdown",
   "metadata": {},
   "source": [
    "### Normal distribution\n",
    "\n",
    "Usar el paquete de numpy para generar muestras de una distribución normal, construir el estimador para la media y verificar los resultados."
   ]
  },
  {
   "cell_type": "code",
   "execution_count": 3,
   "metadata": {},
   "outputs": [],
   "source": [
    "MU = 10\n",
    "SIGMA = 1\n",
    "\n",
    "def gen_normal_sample(N, mu=MU, sigma=SIGMA):\n",
    "    return np.random.normal(mu, sigma, 10)\n",
    "\n",
    "def estimate_mean(X):\n",
    "    return np.mean(X)"
   ]
  },
  {
   "cell_type": "markdown",
   "metadata": {},
   "source": [
    "### Normal distribution: Sesgo"
   ]
  },
  {
   "cell_type": "code",
   "execution_count": 5,
   "metadata": {},
   "outputs": [
    {
     "data": {
      "text/plain": [
       "[<matplotlib.lines.Line2D at 0x7fbb2c50c250>]"
      ]
     },
     "execution_count": 5,
     "metadata": {},
     "output_type": "execute_result"
    },
    {
     "data": {
      "image/png": "[encoded data removed]",
      "text/plain": [
       "<Figure size 432x288 with 1 Axes>"
      ]
     },
     "metadata": {
      "needs_background": "light"
     },
     "output_type": "display_data"
    }
   ],
   "source": [
    "MSG = \"\"\"\n",
    "El estimador no presenta \n",
    "\"\"\"\n",
    "\n",
    "samples = list(range(1, 10000, 100))\n",
    "expected_values = list(map(lambda e: check_bias(\n",
    "    partial(normal_sample, 10), estimate_mean, N=e), samples))\n",
    "plt.plot(samples, expected_values, 'o')"
   ]
  },
  {
   "cell_type": "markdown",
   "metadata": {},
   "source": [
    "### Normal distribution: Consistencia"
   ]
  },
  {
   "cell_type": "code",
   "execution_count": 21,
   "metadata": {},
   "outputs": [
    {
     "data": {
      "text/plain": [
       "[<matplotlib.lines.Line2D at 0x7fbb2abb7910>]"
      ]
     },
     "execution_count": 21,
     "metadata": {},
     "output_type": "execute_result"
    },
    {
     "data": {
      "image/png": "[encoded data removed]",
      "text/plain": [
       "<Figure size 432x288 with 1 Axes>"
      ]
     },
     "metadata": {
      "needs_background": "light"
     },
     "output_type": "display_data"
    }
   ],
   "source": [
    "MSG = \"\"\"\n",
    "El estimado debería acercarcse a teta, pero no lo esta haciendo.\n",
    "\n",
    "Algo estoy haciendo mal, el dice que el estimador tiene a theta en proababilidad,\n",
    "que quiere decir?\n",
    "\"\"\"\n",
    "\n",
    "samples = list(range(1, 10000, 100))\n",
    "expected_values = list(map(lambda e: check_consistency(\n",
    "    gen_normal_sample, estimate_mean, N=e), samples))\n",
    "plt.plot(samples, expected_values, 'o')"
   ]
  },
  {
   "cell_type": "code",
   "execution_count": null,
   "metadata": {},
   "outputs": [],
   "source": [
    "MSG = \"\"\"\n",
    "Hacer un box plot con la distribución de probabilidad de del estimador con muestras de:\n",
    "1, 10, 100, 1000, 10000, 100000.\n",
    "\"\"\""
   ]
  },
  {
   "cell_type": "markdown",
   "metadata": {},
   "source": [
    "### Uniform distribution"
   ]
  },
  {
   "cell_type": "markdown",
   "metadata": {},
   "source": [
    "### Exponential distribution"
   ]
  },
  {
   "cell_type": "code",
   "execution_count": 16,
   "metadata": {},
   "outputs": [],
   "source": []
  }
 ],
 "metadata": {
  "jupytext": {
   "formats": "ipynb,Rmd"
  },
  "kernelspec": {
   "display_name": "Python 3",
   "language": "python",
   "name": "python3"
  },
  "language_info": {
   "codemirror_mode": {
    "name": "ipython",
    "version": 3
   },
   "file_extension": ".py",
   "mimetype": "text/x-python",
   "name": "python",
   "nbconvert_exporter": "python",
   "pygments_lexer": "ipython3",
   "version": "3.8.2"
  }
 },
 "nbformat": 4,
 "nbformat_minor": 4
}
